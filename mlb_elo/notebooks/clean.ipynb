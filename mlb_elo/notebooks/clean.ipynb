{
 "cells": [
  {
   "cell_type": "code",
   "execution_count": 129,
   "metadata": {},
   "outputs": [],
   "source": [
    "import pyarrow as pa\n",
    "import pandas as pd\n",
    "import statsapi"
   ]
  },
  {
   "cell_type": "code",
   "execution_count": 130,
   "metadata": {},
   "outputs": [],
   "source": [
    "games = statsapi.schedule(start_date='07/01/2022',end_date='07/31/2022')\n"
   ]
  },
  {
   "cell_type": "code",
   "execution_count": 185,
   "metadata": {},
   "outputs": [
    {
     "name": "stdout",
     "output_type": "stream",
     "text": [
      "396\n"
     ]
    }
   ],
   "source": [
    "print(len(games))\n",
    "gamesD = pd.DataFrame.from_dict(games)"
   ]
  },
  {
   "cell_type": "code",
   "execution_count": 186,
   "metadata": {},
   "outputs": [],
   "source": [
    "gamesD['game_date'] = pd.to_datetime(gamesD['game_date'], format=\"ISO8601\")\n",
    "gamesD = gamesD[gamesD['status'] == 'Final']"
   ]
  },
  {
   "cell_type": "code",
   "execution_count": 187,
   "metadata": {},
   "outputs": [],
   "source": [
    "gamesD = gamesD.astype({'home_score':'int', 'away_score':'int','current_inning':'int'})"
   ]
  },
  {
   "cell_type": "code",
   "execution_count": 190,
   "metadata": {},
   "outputs": [
    {
     "name": "stdout",
     "output_type": "stream",
     "text": [
      "3.89 ms ± 212 µs per loop (mean ± std. dev. of 7 runs, 100 loops each)\n",
      "1.93 ms ± 29 µs per loop (mean ± std. dev. of 7 runs, 1,000 loops each)\n"
     ]
    }
   ],
   "source": [
    "%timeit gamesD.to_orc('gamesD.orc',engine='pyarrow')\n",
    "%timeit gamesD.to_parquet('gamesD.parquet', engine='pyarrow')\n",
    "#gamesD['current_inning'].value_counts()\n",
    "#gamesD.query('current_inning == \"\"')"
   ]
  },
  {
   "cell_type": "code",
   "execution_count": 191,
   "metadata": {},
   "outputs": [
    {
     "name": "stdout",
     "output_type": "stream",
     "text": [
      "1.85 ms ± 157 µs per loop (mean ± std. dev. of 7 runs, 1,000 loops each)\n",
      "960 µs ± 64.7 µs per loop (mean ± std. dev. of 7 runs, 1,000 loops each)\n"
     ]
    }
   ],
   "source": [
    "%timeit foo = pd.read_parquet('gamesD.parquet',engine='pyarrow')\n",
    "%timeit bar = pd.read_orc('gamesD.orc')"
   ]
  }
 ],
 "metadata": {
  "kernelspec": {
   "display_name": "Python 3 (ipykernel)",
   "language": "python",
   "name": "python3"
  },
  "language_info": {
   "codemirror_mode": {
    "name": "ipython",
    "version": 3
   },
   "file_extension": ".py",
   "mimetype": "text/x-python",
   "name": "python",
   "nbconvert_exporter": "python",
   "pygments_lexer": "ipython3",
   "version": "3.11.3"
  },
  "orig_nbformat": 4
 },
 "nbformat": 4,
 "nbformat_minor": 2
}
