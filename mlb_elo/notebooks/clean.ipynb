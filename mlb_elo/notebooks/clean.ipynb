{
 "cells": [
  {
   "cell_type": "code",
   "execution_count": 1,
   "metadata": {},
   "outputs": [],
   "source": [
    "import pyarrow as pa\n",
    "import pandas as pd\n",
    "import statsapi"
   ]
  },
  {
   "cell_type": "code",
   "execution_count": 9,
   "metadata": {},
   "outputs": [],
   "source": [
    "games = statsapi.schedule(start_date='07/01/2022',end_date='08/31/2022')\n"
   ]
  },
  {
   "cell_type": "code",
   "execution_count": 10,
   "metadata": {},
   "outputs": [
    {
     "name": "stdout",
     "output_type": "stream",
     "text": [
      "819\n"
     ]
    }
   ],
   "source": [
    "print(len(games))\n",
    "gamesD = pd.DataFrame.from_dict(games)"
   ]
  },
  {
   "cell_type": "code",
   "execution_count": 11,
   "metadata": {},
   "outputs": [],
   "source": [
    "gamesD['game_date'] = pd.to_datetime(gamesD['game_date'], format=\"ISO8601\")\n",
    "gamesD = gamesD[gamesD['status'] == 'Final']"
   ]
  },
  {
   "cell_type": "code",
   "execution_count": 12,
   "metadata": {},
   "outputs": [],
   "source": [
    "gamesD = gamesD.astype({'home_score':'int', 'away_score':'int','current_inning':'int'})"
   ]
  },
  {
   "cell_type": "code",
   "execution_count": 13,
   "metadata": {},
   "outputs": [
    {
     "name": "stdout",
     "output_type": "stream",
     "text": [
      "6.47 ms ± 54.6 µs per loop (mean ± std. dev. of 7 runs, 100 loops each)\n",
      "3.28 ms ± 13.3 µs per loop (mean ± std. dev. of 7 runs, 100 loops each)\n"
     ]
    }
   ],
   "source": [
    "%timeit gamesD.reset_index().to_orc('gamesD.orc',engine='pyarrow')\n",
    "%timeit gamesD.to_parquet('gamesD.parquet', engine='pyarrow')\n",
    "#gamesD['current_inning'].value_counts()\n",
    "#gamesD.query('current_inning == \"\"')"
   ]
  },
  {
   "cell_type": "code",
   "execution_count": 14,
   "metadata": {},
   "outputs": [
    {
     "name": "stdout",
     "output_type": "stream",
     "text": [
      "7.98 ms ± 1.6 ms per loop (mean ± std. dev. of 7 runs, 100 loops each)\n",
      "5.69 ms ± 305 µs per loop (mean ± std. dev. of 7 runs, 100 loops each)\n"
     ]
    }
   ],
   "source": [
    "%timeit foo = pd.read_parquet('gamesD.parquet',engine='pyarrow')\n",
    "%timeit bar = pd.read_orc('gamesD.orc')"
   ]
  }
 ],
 "metadata": {
  "kernelspec": {
   "display_name": "Python 3 (ipykernel)",
   "language": "python",
   "name": "python3"
  },
  "language_info": {
   "codemirror_mode": {
    "name": "ipython",
    "version": 3
   },
   "file_extension": ".py",
   "mimetype": "text/x-python",
   "name": "python",
   "nbconvert_exporter": "python",
   "pygments_lexer": "ipython3",
   "version": "3.10.12"
  },
  "orig_nbformat": 4
 },
 "nbformat": 4,
 "nbformat_minor": 2
}
